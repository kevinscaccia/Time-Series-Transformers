{
 "cells": [
  {
   "cell_type": "code",
   "execution_count": null,
   "metadata": {},
   "outputs": [],
   "source": [
    "import torch"
   ]
  },
  {
   "cell_type": "code",
   "execution_count": null,
   "metadata": {},
   "outputs": [],
   "source": [
    "def _predict(self, src, input_len, forecast_horizon):\n",
    "        # src = src[:, 0:]\n",
    "        self.eval()\n",
    "        fh = 128\n",
    "        with torch.no_grad():\n",
    "            output = torch.zeros(1, forecast_horizon + 1, 1).to('cuda')\n",
    "            output[0, 0, 0] = src[0, -1] # first value\n",
    "            for i in range(forecast_horizon):\n",
    "                y = self(src, output)[0,i,0]\n",
    "                output[0,i+1,0] = y\n",
    "        return output[:,1:,:] # remove first value (copy from last history step)\n",
    "exp.model.predict = lambda a, b, c: _predict(exp.model, a, b, c)"
   ]
  }
 ],
 "metadata": {
  "kernelspec": {
   "display_name": "Python 3",
   "language": "python",
   "name": "python3"
  },
  "language_info": {
   "name": "python",
   "version": "3.10.13"
  }
 },
 "nbformat": 4,
 "nbformat_minor": 2
}
