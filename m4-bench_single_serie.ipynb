{
 "cells": [
  {
   "cell_type": "markdown",
   "metadata": {},
   "source": [
    "## M4-Competition Benchmark Loop"
   ]
  },
  {
   "cell_type": "code",
   "execution_count": 1,
   "metadata": {},
   "outputs": [],
   "source": [
    "import numpy as np\n",
    "import matplotlib.pyplot as plt\n",
    "from tqdm import tqdm\n",
    "from sklearn.preprocessing import StandardScaler, MinMaxScaler\n",
    "from utils.m4 import *"
   ]
  },
  {
   "cell_type": "markdown",
   "metadata": {},
   "source": [
    "---\n",
    "## Load Data"
   ]
  },
  {
   "cell_type": "code",
   "execution_count": 2,
   "metadata": {},
   "outputs": [],
   "source": [
    "df_info = pd.read_csv('./M4-methods/Dataset/M4-info.csv')\n",
    "data_dict = {}\n",
    "forecast_horizon = {\n",
    "    'Hourly':48,\n",
    "    'Daily':14,\n",
    "    'Weekly':13,\n",
    "    'Monthly':18,\n",
    "    'Quarterly':8,\n",
    "    'Yearly':6,\n",
    "}\n",
    "frequency = {\n",
    "    'Hourly':24,\n",
    "    'Daily':1,\n",
    "    'Weekly':1,\n",
    "    'Monthly':12,\n",
    "    'Quarterly':4,\n",
    "    'Yearly':1,\n",
    "}\n",
    "\n",
    "USED_PERIODS = ['Weekly'] #['Hourly','Daily','Weekly','Monthly','Quarterly','Yearly']\n",
    "\n",
    "for SP in USED_PERIODS:\n",
    "    data_dict[SP] = {\n",
    "        'train':pd.read_csv(f'M4-methods/Dataset/Train/{SP}-train.csv'),\n",
    "        'test': pd.read_csv(f'M4-methods/Dataset/Test/{SP}-test.csv')\n",
    "    }\n",
    "df_info = df_info[df_info['SP'].isin(USED_PERIODS)]"
   ]
  },
  {
   "cell_type": "markdown",
   "metadata": {},
   "source": [
    "---\n",
    "## Bench Loop"
   ]
  },
  {
   "cell_type": "markdown",
   "metadata": {},
   "source": [
    "## Benchmark Loop (Single Serie Training)"
   ]
  },
  {
   "cell_type": "code",
   "execution_count": 3,
   "metadata": {},
   "outputs": [],
   "source": [
    "from models.transformer import TimeSeriesTransformer\n",
    "from utils.ml import make_batches\n",
    "from utils.plot import print_losses, generate_square_subsequent_mask"
   ]
  },
  {
   "cell_type": "code",
   "execution_count": 4,
   "metadata": {},
   "outputs": [],
   "source": [
    "import torch\n",
    "from torch import nn\n",
    "def train(model, enc_x, dec_x, tgt_y, epochs=100, lr=0.005, gamma=0.95):\n",
    "    memory_mask, tgt_mask = model.get_train_masks()\n",
    "    optimizer = torch.optim.AdamW(model.parameters(), lr=lr)\n",
    "    scheduler = torch.optim.lr_scheduler.StepLR(optimizer, 1, gamma=gamma)\n",
    "    criterion = nn.MSELoss()\n",
    "    #\n",
    "    memory_mask, tgt_mask, model = memory_mask.to('cuda'), tgt_mask.to('cuda'), model.to('cuda') \n",
    "    enc_x, dec_x,  tgt_y  = enc_x.to('cuda'), dec_x.to('cuda'), tgt_y.to('cuda')\n",
    "    #\n",
    "    data_len = enc_x.shape[0]\n",
    "    batch_size = 512\n",
    "    losses = []\n",
    "    for epoch_i in range(epochs): \n",
    "        epoch_losses = []\n",
    "        for i in range(0, data_len, batch_size):\n",
    "            batch_enc_x, batch_enc_y, batch_tgt_y = enc_x[i:i+batch_size], dec_x[i:i+batch_size],  tgt_y[i:i+batch_size]\n",
    "            # zero the parameter gradients\n",
    "            optimizer.zero_grad()\n",
    "            pred_y = model(batch_enc_x, batch_enc_y, None, tgt_mask)\n",
    "            \n",
    "            # Compute and backprop loss\n",
    "            loss = criterion(batch_tgt_y, pred_y)\n",
    "            loss.backward()\n",
    "            epoch_losses.append(loss.detach().cpu())\n",
    "            optimizer.step() #  Take optimizer step\n",
    "        scheduler.step()\n",
    "        \n",
    "        losses.append(np.mean(epoch_losses))\n",
    "    #     print(f'Epoch {epoch_i+1} loss: {np.mean(epoch_losses)} | lr =',optimizer.param_groups[0]['lr'])\n",
    "    # print_losses(losses, offset=0)\n",
    "\n",
    "def infer(model, src, forecast_horizon):\n",
    "    with torch.no_grad():\n",
    "        output = torch.zeros(1, forecast_horizon + 1, 1)\n",
    "        output[0, 0, 0] = src[0, -1]\n",
    "        for i in range(forecast_horizon):\n",
    "            dim_a = output.shape[1]\n",
    "            tgt_mask = generate_square_subsequent_mask(dim_a, dim_a).to('cuda')\n",
    "            y = model(src, output, None, tgt_mask)[0,i,0]\n",
    "            output[0,i+1,0] = y\n",
    "\n",
    "    return output.flatten()[1:]\n"
   ]
  },
  {
   "cell_type": "code",
   "execution_count": 5,
   "metadata": {},
   "outputs": [
    {
     "name": "stdout",
     "output_type": "stream",
     "text": [
      "Number of parameters: 2505\n"
     ]
    }
   ],
   "source": [
    "fh = 13\n",
    "freq = 1\n",
    "in_size = 7*3  # number of points used as input for each forecast\n",
    "INPUT_LEN = in_size\n",
    "FORECAST_HORIZON = fh\n",
    "model_params = {\n",
    "        'in_features':1, # The number of input variables. 1 if univariate forecasting.\n",
    "        'input_len':INPUT_LEN,\n",
    "        'max_input_len':7*4, # What's the longest sequence the model will encounter? Used to make the positional encoder\n",
    "        'forecast_horizon':FORECAST_HORIZON, # Length of the target sequence, i.e. how many time steps should your forecast cover\n",
    "        'd_model':8, # model embedding dimension This can be any value divisible by n_heads. 512 is used in the original transformer paper.\n",
    "        'encoder_nheads':4, # The number of attention heads (parallel attention layers)\n",
    "        'encoder_nlayers':2, # Number of times the layer is stacked\n",
    "        'encoder_dropout': 0,#0.1,\n",
    "        'encoder_ps_dropout': 0,#0.1,\n",
    "        'feedforward_dim':8,\n",
    "        'decoder_nheads':4, # The number of attention heads (parallel attention layers)\n",
    "        'decoder_nlayers':2, # Number of times the layer is stacked\n",
    "        'decoder_dropout': 0,#0.1, # with zeroed dropout we can reproduce the outputs.\n",
    "        'seed':7,\n",
    "        'mapping_dim':16\n",
    "    }\n",
    "total_params = sum(p.numel() for p in TimeSeriesTransformer(model_params).parameters())\n",
    "print(f\"Number of parameters: {total_params}\")"
   ]
  },
  {
   "cell_type": "code",
   "execution_count": 33,
   "metadata": {},
   "outputs": [
    {
     "data": {
      "text/plain": [
       "torch.Size([2146, 13, 1])"
      ]
     },
     "execution_count": 33,
     "metadata": {},
     "output_type": "execute_result"
    }
   ],
   "source": [
    "dec_x.shape"
   ]
  },
  {
   "cell_type": "code",
   "execution_count": 19,
   "metadata": {},
   "outputs": [
    {
     "data": {
      "text/plain": [
       "tensor([[[0.5893],\n",
       "         [0.5890],\n",
       "         [0.5884],\n",
       "         ...,\n",
       "         [0.5849],\n",
       "         [0.5844],\n",
       "         [0.5844]],\n",
       "\n",
       "        [[0.5890],\n",
       "         [0.5884],\n",
       "         [0.5884],\n",
       "         ...,\n",
       "         [0.5844],\n",
       "         [0.5844],\n",
       "         [0.5836]],\n",
       "\n",
       "        [[0.5884],\n",
       "         [0.5884],\n",
       "         [0.5879],\n",
       "         ...,\n",
       "         [0.5844],\n",
       "         [0.5836],\n",
       "         [0.5831]],\n",
       "\n",
       "        ...,\n",
       "\n",
       "        [[0.8722],\n",
       "         [0.8202],\n",
       "         [0.8197],\n",
       "         ...,\n",
       "         [0.8497],\n",
       "         [0.8600],\n",
       "         [0.8595]],\n",
       "\n",
       "        [[0.8202],\n",
       "         [0.8197],\n",
       "         [0.8426],\n",
       "         ...,\n",
       "         [0.8600],\n",
       "         [0.8595],\n",
       "         [0.7927]],\n",
       "\n",
       "        [[0.8197],\n",
       "         [0.8426],\n",
       "         [0.8421],\n",
       "         ...,\n",
       "         [0.8595],\n",
       "         [0.7927],\n",
       "         [0.7922]]])"
      ]
     },
     "execution_count": 19,
     "metadata": {},
     "output_type": "execute_result"
    }
   ],
   "source": [
    "dec_x"
   ]
  },
  {
   "cell_type": "code",
   "execution_count": 6,
   "metadata": {},
   "outputs": [
    {
     "name": "stdout",
     "output_type": "stream",
     "text": [
      "---------FINAL RESULTS---------\n",
      "Model : naive_1\n",
      "  Weekly: \n",
      "    sMAPE: nan\n",
      "    MASE: nan\n",
      "Model : mlp\n",
      "  Weekly: \n",
      "    sMAPE: nan\n",
      "    MASE: nan\n",
      "Model : transformer\n",
      "  Weekly: \n",
      "    sMAPE: 10.421\n",
      "    MASE: 61.561\n"
     ]
    }
   ],
   "source": [
    "ERRORS = {\n",
    "    'naive_1':{p:{'sMAPE':[],'MASE':[]} for p in USED_PERIODS},\n",
    "    'mlp':{p:{'sMAPE':[],'MASE':[]} for p in USED_PERIODS},\n",
    "    'transformer':{p:{'sMAPE':[],'MASE':[]} for p in USED_PERIODS}\n",
    "    }\n",
    "\n",
    "for serie_index in [0]:#tqdm(range(len(df_info))):\n",
    "    serie_info = df_info.iloc[serie_index]\n",
    "    serie_id = serie_info.M4id\n",
    "    serie_sp = serie_info.SP\n",
    "    fh = forecast_horizon[serie_sp]\n",
    "    freq = frequency[serie_sp]\n",
    "    in_size = 7*3  # number of points used as input for each forecast\n",
    "    INPUT_LEN = in_size\n",
    "    FORECAST_HORIZON = fh\n",
    "    model_params = {\n",
    "        'in_features':1, # The number of input variables. 1 if univariate forecasting.\n",
    "        'input_len':INPUT_LEN,\n",
    "        'max_input_len':7*4, # What's the longest sequence the model will encounter? Used to make the positional encoder\n",
    "        'forecast_horizon':FORECAST_HORIZON, # Length of the target sequence, i.e. how many time steps should your forecast cover\n",
    "        'd_model':8, # model embedding dimension This can be any value divisible by n_heads. 512 is used in the original transformer paper.\n",
    "        'encoder_nheads':4, # The number of attention heads (parallel attention layers)\n",
    "        'encoder_nlayers':2, # Number of times the layer is stacked\n",
    "        'encoder_dropout': 0,#0.1,\n",
    "        'encoder_ps_dropout': 0,#0.1,\n",
    "        'feedforward_dim':8,\n",
    "        'decoder_nheads':4, # The number of attention heads (parallel attention layers)\n",
    "        'decoder_nlayers':2, # Number of times the layer is stacked\n",
    "        'decoder_dropout': 0,#0.1, # with zeroed dropout we can reproduce the outputs.\n",
    "        'seed':7,\n",
    "        'mapping_dim':16\n",
    "    }\n",
    "    #\n",
    "    train_df = data_dict[serie_sp]['train']\n",
    "    test_df = data_dict[serie_sp]['test']\n",
    "    # filtra a serie, remove os valores nan e remove o id da serie(presente no 1 valor)\n",
    "    train_serie = train_df[train_df.V1 == serie_id].dropna(axis=1).values.reshape(-1)[1:]\n",
    "    test_serie = test_df[test_df.V1 == serie_id].dropna(axis=1).values.reshape(-1)[1:]\n",
    "    test_serie = test_serie[:fh] # forecast only fh steps\n",
    "    train_serie = np.asarray(train_serie, dtype=np.float32)\n",
    "    test_serie = np.asarray(test_serie, dtype=np.float32)\n",
    "    ts = np.concatenate([train_serie, test_serie], dtype=np.float32)\n",
    "    #\n",
    "    # Remove sazonality and trend\n",
    "    #\n",
    "    # remove seasonality\n",
    "    seasonality_in = deseasonalize(ts, freq)\n",
    "\n",
    "    for i in range(0, len(ts)):\n",
    "        ts[i] = ts[i] * 100 / seasonality_in[i % freq]\n",
    "\n",
    "    # detrending\n",
    "    a, b = detrend(ts)\n",
    "    for i in range(0, len(ts)):\n",
    "        ts[i] = ts[i] - ((a * i) + b)\n",
    "    #\n",
    "    # SCALE\n",
    "    #\n",
    "    scale = True\n",
    "    if scale:\n",
    "        scaler = MinMaxScaler()\n",
    "        scaler.fit(ts[:-fh].reshape(-1, 1))\n",
    "        ts = scaler.transform(ts.reshape(-1, 1)).flatten()\n",
    "    #\n",
    "    # Transformer Input\n",
    "    #\n",
    "    enc_x, dec_x, tgt_y = make_batches(ts[:-fh], INPUT_LEN, FORECAST_HORIZON)\n",
    "    model = TimeSeriesTransformer(model_params)\n",
    "    # train(model, enc_x, dec_x, tgt_y, 100, lr=0.005, gamma=1.01)\n",
    "    train(model, enc_x, dec_x, tgt_y, 100, lr=0.005, gamma=0.95)\n",
    "    #\n",
    "    # Transformer Inference\n",
    "    #\n",
    "    last_train_values = ts[:-fh] # remove test\n",
    "    last_train_values =  torch.tensor( \n",
    "        np.asarray(last_train_values[-INPUT_LEN:]).reshape(1, INPUT_LEN, 1), dtype=torch.float32)\n",
    "    # model.eval()\n",
    "    model = model.to('cpu')\n",
    "    transformer_pred_y = infer(model, last_train_values, forecast_horizon=fh).detach()\n",
    "    #\n",
    "    # Inverse scale\n",
    "    #\n",
    "    if scale:\n",
    "        ts = scaler.inverse_transform(ts.reshape(-1, 1)).flatten()\n",
    "        transformer_pred_y = scaler.inverse_transform(transformer_pred_y.reshape(-1, 1)).flatten()\n",
    "    #\n",
    "    # Add sazonality and trend\n",
    "    #\n",
    "    for i in range(0, len(ts)):\n",
    "        ts[i] = ts[i] + ((a * i) + b)\n",
    "\n",
    "    for i in range(0, fh):\n",
    "        transformer_pred_y[i] = transformer_pred_y[i] + ((a * (len(ts) + i + 1)) + b)\n",
    "\n",
    "    # add seasonality\n",
    "    for i in range(0, len(ts)):\n",
    "        ts[i] = ts[i] * seasonality_in[i % freq] / 100\n",
    "\n",
    "    for i in range(len(ts), len(ts) + fh):\n",
    "        transformer_pred_y[i - len(ts)] = transformer_pred_y[i - len(ts)] * seasonality_in[i % freq] / 100\n",
    "\n",
    "    # check if negative or extreme\n",
    "    for i in range(len(transformer_pred_y)):\n",
    "        if transformer_pred_y[i] < 0:\n",
    "            transformer_pred_y[i] = 0\n",
    "            \n",
    "        if transformer_pred_y[i] > (1000 * max(ts)):\n",
    "            transformer_pred_y[i] = max(ts)   \n",
    "    # transformer_pred_y = transformer_pred_y.numpy()\n",
    "    # Vanila TF\n",
    "    ERRORS['transformer'][serie_sp]['sMAPE'].append(smape(test_serie, transformer_pred_y))\n",
    "    ERRORS['transformer'][serie_sp]['MASE'].append(mase(ts[:-fh], test_serie, transformer_pred_y, freq))  \n",
    "\n",
    "print(\"---------FINAL RESULTS---------\")\n",
    "for model, err in ERRORS.items():\n",
    "    print(f'Model : {model}')\n",
    "    for sp, sp_err in err.items():\n",
    "        print(f'  {sp}: ')\n",
    "        print(f'    sMAPE: {np.mean(sp_err[\"sMAPE\"])*100:.3f}')\n",
    "        print(f'    MASE: {np.mean(sp_err[\"MASE\"]):.3f}')\n",
    "  "
   ]
  },
  {
   "cell_type": "code",
   "execution_count": 8,
   "metadata": {},
   "outputs": [
    {
     "data": {
      "text/plain": [
       "array([35397.16, 35808.59, 35808.59, 36246.14, 36246.14, 36403.7 ,\n",
       "       36403.7 , 36150.2 , 36150.2 , 35790.55, 35790.55, 34066.95,\n",
       "       34066.95], dtype=float32)"
      ]
     },
     "execution_count": 8,
     "metadata": {},
     "output_type": "execute_result"
    }
   ],
   "source": [
    "test_serie"
   ]
  },
  {
   "cell_type": "code",
   "execution_count": 16,
   "metadata": {},
   "outputs": [
    {
     "data": {
      "text/plain": [
       "array([38451.51628358, 39153.91954162, 39418.24694772, 39562.54709974,\n",
       "       39658.57094102, 39729.88358449, 39786.61548188, 39833.94077062,\n",
       "       39874.51689305, 39910.22718157, 39942.50926894, 39972.14731846,\n",
       "       39999.71102143])"
      ]
     },
     "execution_count": 16,
     "metadata": {},
     "output_type": "execute_result"
    }
   ],
   "source": [
    "transformer_pred_y"
   ]
  },
  {
   "cell_type": "code",
   "execution_count": 17,
   "metadata": {},
   "outputs": [
    {
     "data": {
      "text/plain": [
       "array([35397.16, 35808.59, 35808.59, 36246.14, 36246.14, 36403.7 ,\n",
       "       36403.7 , 36150.2 , 36150.2 , 35790.55, 35790.55, 34066.95,\n",
       "       34066.95], dtype=float32)"
      ]
     },
     "execution_count": 17,
     "metadata": {},
     "output_type": "execute_result"
    }
   ],
   "source": [
    "y_test"
   ]
  },
  {
   "cell_type": "markdown",
   "metadata": {},
   "source": [
    "## Experimentos"
   ]
  },
  {
   "cell_type": "code",
   "execution_count": 7,
   "metadata": {},
   "outputs": [
    {
     "ename": "SyntaxError",
     "evalue": "invalid syntax. Perhaps you forgot a comma? (2939050784.py, line 1)",
     "output_type": "error",
     "traceback": [
      "\u001b[0;36m  Cell \u001b[0;32mIn[7], line 1\u001b[0;36m\u001b[0m\n\u001b[0;31m    Model : transformer (full data)\u001b[0m\n\u001b[0m                         ^\u001b[0m\n\u001b[0;31mSyntaxError\u001b[0m\u001b[0;31m:\u001b[0m invalid syntax. Perhaps you forgot a comma?\n"
     ]
    }
   ],
   "source": [
    "Model : transformer (full data)\n",
    "  Weekly: \n",
    "    sMAPE: 20.103\n",
    "    MASE: 10.419"
   ]
  },
  {
   "cell_type": "code",
   "execution_count": 13,
   "metadata": {},
   "outputs": [
    {
     "data": {
      "text/plain": [
       "[<matplotlib.lines.Line2D at 0x7fb38015a410>]"
      ]
     },
     "execution_count": 13,
     "metadata": {},
     "output_type": "execute_result"
    },
    {
     "data": {
      "image/png": "[encoded data removed]",
      "text/plain": [
       "<Figure size 640x480 with 1 Axes>"
      ]
     },
     "metadata": {},
     "output_type": "display_data"
    }
   ],
   "source": [
    "plt.plot(range(0,len(ts)), ts)\n",
    "plt.plot(range(len(ts)-fh,len(ts)), transformer_pred_y)"
   ]
  },
  {
   "cell_type": "code",
   "execution_count": null,
   "metadata": {},
   "outputs": [],
   "source": []
  },
  {
   "cell_type": "code",
   "execution_count": 12,
   "metadata": {},
   "outputs": [
    {
     "data": {
      "text/plain": [
       "[<matplotlib.lines.Line2D at 0x7fb38959e950>]"
      ]
     },
     "execution_count": 12,
     "metadata": {},
     "output_type": "execute_result"
    },
    {
     "data": {
      "image/png": "[encoded data removed]",
      "text/plain": [
       "<Figure size 640x480 with 1 Axes>"
      ]
     },
     "metadata": {},
     "output_type": "display_data"
    }
   ],
   "source": []
  },
  {
   "cell_type": "code",
   "execution_count": null,
   "metadata": {},
   "outputs": [],
   "source": [
    "    # #\n",
    "    # # output = output[0,1:,0] # remove the SOS token\n",
    "    # output = output.detach().numpy().flatten()\n",
    "    # time = np.arange(0, input_steps + forecast_horizon)\n",
    "    # plt.figure(figsize=(18,5))\n",
    "    # plt.plot(time[:input_steps], src.numpy().flatten(), 'g', label='Encoder Input')\n",
    "    # plt.plot(time[input_steps:input_steps+tgt_steps], tgt_y.numpy().flatten(), 'y', label='Reality')\n",
    "    # plt.plot(time[input_steps-1:], output, 'r', label='Prediction') # o 1 valor de output é o ultimo tipestamp do input\n",
    "    # plt.legend()\n",
    "    # plt.show()"
   ]
  },
  {
   "cell_type": "markdown",
   "metadata": {},
   "source": [
    "## Benchmarks"
   ]
  },
  {
   "cell_type": "code",
   "execution_count": 9,
   "metadata": {},
   "outputs": [],
   "source": [
    "ERRORS = {\n",
    "    'naive_1':{p:{'sMAPE':[],'MASE':[]} for p in USED_PERIODS},\n",
    "    'mlp':{p:{'sMAPE':[],'MASE':[]} for p in USED_PERIODS}\n",
    "    }\n",
    "\n",
    "for serie_index in [0]:#tqdm(range(len(df_info))):\n",
    "    serie_info = df_info.iloc[serie_index]\n",
    "    serie_id = serie_info.M4id\n",
    "    serie_sp = serie_info.SP\n",
    "    fh = forecast_horizon[serie_sp]\n",
    "    freq = frequency[serie_sp]\n",
    "    in_size = 3  # number of points used as input for each forecast\n",
    "    #\n",
    "    train_df = data_dict[serie_sp]['train']\n",
    "    test_df = data_dict[serie_sp]['test']\n",
    "    # filtra a serie, remove os valores nan e remove o id da serie(presente no 1 valor)\n",
    "    train_serie = train_df[train_df.V1 == serie_id].dropna(axis=1).values.reshape(-1)[1:]\n",
    "    test_serie = test_df[test_df.V1 == serie_id].dropna(axis=1).values.reshape(-1)[1:]\n",
    "    test_serie = test_serie[:fh] # forecast only fh steps\n",
    "    train_serie = np.asarray(train_serie, dtype=np.float32)\n",
    "    test_serie = np.asarray(test_serie, dtype=np.float32)\n",
    "    ts = np.concatenate([train_serie, test_serie], dtype=np.float32)\n",
    "    #\n",
    "    #\n",
    "    #\n",
    "    # remove seasonality\n",
    "    seasonality_in = deseasonalize(ts, freq)\n",
    "\n",
    "    for i in range(0, len(ts)):\n",
    "        ts[i] = ts[i] * 100 / seasonality_in[i % freq]\n",
    "\n",
    "    # detrending\n",
    "    a, b = detrend(ts)\n",
    "\n",
    "    for i in range(0, len(ts)):\n",
    "        ts[i] = ts[i] - ((a * i) + b)\n",
    "    # scaler = MinMaxScaler()\n",
    "    # scaler.fit(ts[:-fh].reshape(-1, 1))\n",
    "    # ts = scaler.transform(ts.reshape(-1, 1)).flatten()\n",
    "    x_train, y_train, x_test, y_test = split_into_train_test(ts, in_size, fh)\n",
    "    # MLP benchmark - Produce forecasts\n",
    "    # y_hat_test_MLP = mlp_bench(x_train.copy(), y_train.copy(), x_test.copy(), fh)\n",
    "\n",
    "    # ts = scaler.inverse_transform(ts.reshape(-1, 1)).flatten()\n",
    "    # y_hat_test_MLP = scaler.inverse_transform(y_hat_test_MLP.reshape(-1, 1)).flatten()\n",
    "    # y_test = scaler.inverse_transform(y_test.reshape(-1, 1)).flatten()\n",
    "    # MLP benchmark - Produce forecasts\n",
    "    y_hat_test_MLP = mlp_bench(x_train, y_train, x_test, fh)\n",
    "    for i in range(0, 29):\n",
    "        y_hat_test_MLP = np.vstack((y_hat_test_MLP, mlp_bench(x_train, y_train, x_test, fh)))\n",
    "    y_hat_test_MLP = np.median(y_hat_test_MLP, axis=0)\n",
    "\n",
    "    # add trend\n",
    "    for i in range(0, len(ts)):\n",
    "        ts[i] = ts[i] + ((a * i) + b)\n",
    "\n",
    "    for i in range(0, fh):\n",
    "        y_hat_test_MLP[i] = y_hat_test_MLP[i] + ((a * (len(ts) + i + 1)) + b)\n",
    "\n",
    "    # add seasonality\n",
    "    for i in range(0, len(ts)):\n",
    "        ts[i] = ts[i] * seasonality_in[i % freq] / 100\n",
    "\n",
    "    for i in range(len(ts), len(ts) + fh):\n",
    "        y_hat_test_MLP[i - len(ts)] = y_hat_test_MLP[i - len(ts)] * seasonality_in[i % freq] / 100\n",
    "\n",
    "    # check if negative or extreme\n",
    "    for i in range(len(y_hat_test_MLP)):\n",
    "        if y_hat_test_MLP[i] < 0:\n",
    "            y_hat_test_MLP[i] = 0\n",
    "            \n",
    "        if y_hat_test_MLP[i] > (1000 * max(ts)):\n",
    "            y_hat_test_MLP[i] = max(ts)   \n",
    "\n",
    "    x_train, y_train, x_test, y_test = split_into_train_test(ts, in_size, fh)\n",
    "\n",
    "    \n",
    "    # Create Train examples for MLP and RNN\n",
    "   \n",
    "    # train_x, train_y, test_x, test_y = split_into_train_test(train_serie, test_serie, in_size)\n",
    "    \n",
    "    #Naive Forecast (Benchmark)\n",
    "    \n",
    "    # pred_y =  naive_predict(train_serie, test_serie, fh)\n",
    "    # ERRORS['naive_1'][serie_sp]['sMAPE'].append(smape(test_serie, pred_y))\n",
    "    # ERRORS['naive_1'][serie_sp]['MASE'].append(mase(train_serie, test_serie, pred_y, freq))\n",
    "    \n",
    "    # MLP (Benchmark)\n",
    "    #\n",
    "    ERRORS['mlp'][serie_sp]['sMAPE'].append(smape(y_test, y_hat_test_MLP))\n",
    "    ERRORS['mlp'][serie_sp]['MASE'].append(mase(ts[:-fh], y_test, y_hat_test_MLP, freq))  \n",
    "  \n",
    "\n"
   ]
  },
  {
   "cell_type": "code",
   "execution_count": 10,
   "metadata": {},
   "outputs": [
    {
     "data": {
      "text/plain": [
       "array([35397.16, 35808.59, 35808.59, 36246.14, 36246.14, 36403.7 ,\n",
       "       36403.7 , 36150.2 , 36150.2 , 35790.55, 35790.55, 34066.95,\n",
       "       34066.95], dtype=float32)"
      ]
     },
     "execution_count": 10,
     "metadata": {},
     "output_type": "execute_result"
    }
   ],
   "source": [
    "y_test"
   ]
  },
  {
   "cell_type": "code",
   "execution_count": 11,
   "metadata": {},
   "outputs": [
    {
     "name": "stdout",
     "output_type": "stream",
     "text": [
      "---------FINAL RESULTS---------\n",
      "Model : naive_1\n",
      "  Weekly: \n",
      "    sMAPE: nan\n",
      "    MASE: nan\n",
      "Model : mlp\n",
      "  Weekly: \n",
      "    sMAPE: 4.041\n",
      "    MASE: 23.000\n"
     ]
    }
   ],
   "source": [
    "print(\"---------FINAL RESULTS---------\")\n",
    "for model, err in ERRORS.items():\n",
    "    print(f'Model : {model}')\n",
    "    for sp, sp_err in err.items():\n",
    "        print(f'  {sp}: ')\n",
    "        print(f'    sMAPE: {np.mean(sp_err[\"sMAPE\"])*100:.3f}')\n",
    "        print(f'    MASE: {np.mean(sp_err[\"MASE\"]):.3f}')"
   ]
  },
  {
   "cell_type": "markdown",
   "metadata": {},
   "source": [
    "## Benchmark Loop (Multiple Serie Training)"
   ]
  },
  {
   "cell_type": "code",
   "execution_count": null,
   "metadata": {},
   "outputs": [],
   "source": [
    "ERRORS = {\n",
    "    'naive_1':{p:{'sMAPE':[],'MASE':[]} for p in USED_PERIODS},\n",
    "    'mlp':{p:{'sMAPE':[],'MASE':[]} for p in USED_PERIODS}\n",
    "    }\n"
   ]
  },
  {
   "cell_type": "code",
   "execution_count": null,
   "metadata": {},
   "outputs": [],
   "source": [
    "# !pip3 install -r requirements.txt"
   ]
  },
  {
   "cell_type": "code",
   "execution_count": null,
   "metadata": {},
   "outputs": [],
   "source": [
    "ERRORS = {\n",
    "    'naive_1':{p:{'sMAPE':[],'MASE':[]} for p in USED_PERIODS},\n",
    "    'mlp':{p:{'sMAPE':[],'MASE':[]} for p in USED_PERIODS}\n",
    "    }\n",
    "\n",
    "for serie_index in tqdm(range(len(df_info))):\n",
    "    serie_info = df_info.iloc[serie_index]\n",
    "    serie_id = serie_info.M4id\n",
    "    serie_sp = serie_info.SP\n",
    "    fh = forecast_horizon[serie_sp]\n",
    "    freq = frequency[serie_sp]\n",
    "    in_size = 3  # number of points used as input for each forecast\n",
    "    #\n",
    "    train_df = data_dict[serie_sp]['train']\n",
    "    test_df = data_dict[serie_sp]['test']\n",
    "    # filtra a serie, remove os valores nan e remove o id da serie(presente no 1 valor)\n",
    "    train_serie = train_df[train_df.V1 == serie_id].dropna(axis=1).values.reshape(-1)[1:]\n",
    "    test_serie = test_df[test_df.V1 == serie_id].dropna(axis=1).values.reshape(-1)[1:]\n",
    "    test_serie = test_serie[:fh] # forecast only fh steps\n",
    "    train_serie = np.asarray(train_serie, dtype=np.float32)\n",
    "    test_serie = np.asarray(test_serie, dtype=np.float32)\n",
    "    ts = np.concatenate([train_serie, test_serie], dtype=np.float32)\n",
    "    #\n",
    "    #\n",
    "    #\n",
    "    # remove seasonality\n",
    "    seasonality_in = deseasonalize(ts, freq)\n",
    "\n",
    "    for i in range(0, len(ts)):\n",
    "        ts[i] = ts[i] * 100 / seasonality_in[i % freq]\n",
    "\n",
    "    # detrending\n",
    "    a, b = detrend(ts)\n",
    "\n",
    "    for i in range(0, len(ts)):\n",
    "        ts[i] = ts[i] - ((a * i) + b)\n",
    "    # scaler = MinMaxScaler()\n",
    "    # scaler.fit(ts[:-fh].reshape(-1, 1))\n",
    "    # ts = scaler.transform(ts.reshape(-1, 1)).flatten()\n",
    "    x_train, y_train, x_test, y_test = split_into_train_test(ts, in_size, fh)\n",
    "    # MLP benchmark - Produce forecasts\n",
    "    # y_hat_test_MLP = mlp_bench(x_train.copy(), y_train.copy(), x_test.copy(), fh)\n",
    "\n",
    "    # ts = scaler.inverse_transform(ts.reshape(-1, 1)).flatten()\n",
    "    # y_hat_test_MLP = scaler.inverse_transform(y_hat_test_MLP.reshape(-1, 1)).flatten()\n",
    "    # y_test = scaler.inverse_transform(y_test.reshape(-1, 1)).flatten()\n",
    "    # MLP benchmark - Produce forecasts\n",
    "    y_hat_test_MLP = mlp_bench(x_train, y_train, x_test, fh)\n",
    "    for i in range(0, 29):\n",
    "        y_hat_test_MLP = np.vstack((y_hat_test_MLP, mlp_bench(x_train, y_train, x_test, fh)))\n",
    "    y_hat_test_MLP = np.median(y_hat_test_MLP, axis=0)\n",
    "\n",
    "    # add trend\n",
    "    for i in range(0, len(ts)):\n",
    "        ts[i] = ts[i] + ((a * i) + b)\n",
    "\n",
    "    for i in range(0, fh):\n",
    "        y_hat_test_MLP[i] = y_hat_test_MLP[i] + ((a * (len(ts) + i + 1)) + b)\n",
    "\n",
    "    # add seasonality\n",
    "    for i in range(0, len(ts)):\n",
    "        ts[i] = ts[i] * seasonality_in[i % freq] / 100\n",
    "\n",
    "    for i in range(len(ts), len(ts) + fh):\n",
    "        y_hat_test_MLP[i - len(ts)] = y_hat_test_MLP[i - len(ts)] * seasonality_in[i % freq] / 100\n",
    "\n",
    "    # check if negative or extreme\n",
    "    for i in range(len(y_hat_test_MLP)):\n",
    "        if y_hat_test_MLP[i] < 0:\n",
    "            y_hat_test_MLP[i] = 0\n",
    "            \n",
    "        if y_hat_test_MLP[i] > (1000 * max(ts)):\n",
    "            y_hat_test_MLP[i] = max(ts)   \n",
    "\n",
    "    x_train, y_train, x_test, y_test = split_into_train_test(ts, in_size, fh)\n",
    "\n",
    "    \n",
    "    # Create Train examples for MLP and RNN\n",
    "   \n",
    "    # train_x, train_y, test_x, test_y = split_into_train_test(train_serie, test_serie, in_size)\n",
    "    \n",
    "    #Naive Forecast (Benchmark)\n",
    "    \n",
    "    # pred_y =  naive_predict(train_serie, test_serie, fh)\n",
    "    # ERRORS['naive_1'][serie_sp]['sMAPE'].append(smape(test_serie, pred_y))\n",
    "    # ERRORS['naive_1'][serie_sp]['MASE'].append(mase(train_serie, test_serie, pred_y, freq))\n",
    "    \n",
    "    # MLP (Benchmark)\n",
    "    #\n",
    "    ERRORS['mlp'][serie_sp]['sMAPE'].append(smape(y_test, y_hat_test_MLP))\n",
    "    ERRORS['mlp'][serie_sp]['MASE'].append(mase(ts[:-fh], y_test, y_hat_test_MLP, freq))  \n",
    "  \n",
    "\n"
   ]
  }
 ],
 "metadata": {
  "kernelspec": {
   "display_name": "Python 3",
   "language": "python",
   "name": "python3"
  },
  "language_info": {
   "codemirror_mode": {
    "name": "ipython",
    "version": 3
   },
   "file_extension": ".py",
   "mimetype": "text/x-python",
   "name": "python",
   "nbconvert_exporter": "python",
   "pygments_lexer": "ipython3",
   "version": "3.10.13"
  }
 },
 "nbformat": 4,
 "nbformat_minor": 2
}
